{
 "cells": [
  {
   "cell_type": "markdown",
   "metadata": {},
   "source": [
    "# Language Change in Dutch Pop Song Lyrics (1989 - 2018)\n",
    "\n",
    "_Alie Lassche_\n",
    "\n",
    "\n",
    "## 1. Introduction\n",
    "\n",
    "Is today's popular music worse than it was several years ago? In an [article](https://slate.com/technology/2014/08/musical-nostalgia-the-psychology-and-neuroscience-for-song-preference-and-the-reminiscence-bump.html) on Slate, Mark Jospeh Stern asks himself why the songs he heard when he was a teenager sound sweeter than anything he listens to as an adult. To answer this question he investigates the brain's relationship with music and states that our reaction to music depends on how we interact with it. The more we like a song, the more we get treated to neurochemical bliss. Since our brains undergo rapid neurological development between the ages of 12 and 22, the music we love during that decade seems to get wired in our lobes for good. Combine that with the fact that songs from our youth form the soundtrack to what feels, at that time, like the most vital and momentous years of lives, and you'll have the conclusion as Stern puts it: you'll never love another song the way you loved the music of your youth.\n",
    "\n",
    "Carl Sharpe asks himself almost the same question in an [article](https://towardsdatascience.com/49-years-of-lyrics-why-so-angry-1adf0a3fa2b4) on Towards Data Science: \"I _know_ late 90s music was the best music of all time (see Neural Nostalgia article above), but how could I prove/disprove that? How could I measure something so subjective?\" In his article\n",
    "he presents the results of a Python based study of the change in language for popular music from 1970 to 2018. One of the hypotheses he tests is that lyrics have become more aggressive and profane over the past 49 years. The dataset contains popular songs that were in the Billboard Top 100 between 1978 and 2018. In other studies on the language of song lyrics (take a look [here](https://www.johnwmillr.com/trucks-and-beer/), [here](https://towardsdatascience.com/does-country-music-drink-more-than-other-genres-a21db901940b) and [here](https://github.com/Hugo-Nattagh/2017-Hip-Hop)), the corpus consists of English popsongs as well. Drawing inspiration from the quantitative analytic studies on song lyrics mentioned above, I will research the change in language in lyrics of Dutch popular songs.\n",
    "\n",
    "The research question I will answer in this study is: how do the dominant sentiments in Dutch song lyrics change between 1989 and 2018? To answer this question I use the Linguistic Inquiry and Word Count ([LIWC](http://liwc.wpengine.com)), which is a software program to analyse text by counting words in 66 psychologically meaningful categories that are calculated in a dictionary of words. The LIWC reads a given text and counts the percentages of words that fall in a certain category. Since it was originally developed by researchers with interest in social, clinical, health and cognitive psychology, the language categories were created to capture people's social and psychological states. The LIWC is an English dictionary, but is translated in many languages, among which the Dutch language. In this study I use the Dutch translation of the LIWC 2007 version.\n",
    "\n",
    "In what follows I will first examine the making of the dataset I used, after which I will discuss the Dutch LIWC in detail. Subsequently there will be paragraphs on the analysis and the results. I will end with a conclusion and a discussion.\n",
    "\n",
    "\n",
    "## 2. Corpus\n",
    "\n",
    "To create a dataset, I used a method similar to Stern's. Instead of using the Top 100 of Billboard, I went to the Dutch equivalent: the [Top40](https://www.top40.nl). Here the 'Top 100-Jaaroverzicht' can be found from 1965 until 2018. I checked each list (as from 1989 until 2018) manually for artists that wrote songs in Dutch. I created a list with the names of these artists, dividing the thirty years in three decades, resulting in a dataframe with three columns, each containing the names of artists that were in the Top 100 during the following decades: 1989 - 1998, 1999 - 2008, 2009 - 2018.\n",
    "\n",
    "After that I wrote a script that, given an artist from the above mentioned dataframe, scrapes corresponding song titles from [Genius](www.genius.com). The name of the artist and the song titles were saved in a dictionary - one for each decade. The next step was to clean this dictionary.\n",
    "\n",
    "- remove English songs\n",
    "- remove wrong artists\n",
    "\n",
    "Maar, dit kan ook na het scrapen van de lyrics. Misschien zelfs makkelijker.\n",
    "\n"
   ]
  },
  {
   "cell_type": "markdown",
   "metadata": {},
   "source": [
    "## 3. Analysis\n",
    "\n",
    "## 4. Results\n",
    "\n",
    "## 5. Conclusion\n",
    "\n",
    "## 6. Discussion"
   ]
  }
 ],
 "metadata": {
  "kernelspec": {
   "display_name": "Python 3",
   "language": "python",
   "name": "python3"
  },
  "language_info": {
   "codemirror_mode": {
    "name": "ipython",
    "version": 3
   },
   "file_extension": ".py",
   "mimetype": "text/x-python",
   "name": "python",
   "nbconvert_exporter": "python",
   "pygments_lexer": "ipython3",
   "version": "3.6.5"
  }
 },
 "nbformat": 4,
 "nbformat_minor": 2
}
