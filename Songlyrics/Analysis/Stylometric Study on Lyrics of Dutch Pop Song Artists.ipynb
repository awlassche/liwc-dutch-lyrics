{
 "cells": [
  {
   "cell_type": "markdown",
   "metadata": {},
   "source": [
    "# A Study on the Works of Dutch Pop Song Artists using LIWC\n",
    "_Alie Lassche_\n",
    "\n",
    "## 1. Introduction\n",
    "\n",
    "Is today's popular music worse or better than the popular music of several years ago? Are the lyrics of contemporary pop songs happier or sadder than the lyrics of pop songs of previous generations? And do current songs talk about love more or less than they used to? These and more questions on pop song lyrics are being asked more and more, which defenitely has to do with the increasing availability of large data sets in electronic format. Carl Sharpe asks himself in an [article](https://towardsdatascience.com/49-years-of-lyrics-why-so-angry-1adf0a3fa2b4) on Towards Data Science: \"I _know_ late 90s music was the best music of all time, but how could I prove/disprove that? How could I measure something so subjective?\" In his article he presents the results of a Python based study of the change in language for popular music from 1970 to 2018. One of the hypotheses he tests is that lyrics have become more aggressive and profane over the past 49 years.\n",
    "\n",
    "Furthermore, Peter Sheridan Dodds and Christopher M. Danforth state in their article 'Measuring the Happiness of Large-Scale Written Expression: Songs, Blogs, and Presidents' that they want to know how, when and why individuals feel as they do. Therefore they quantify happiness levels for a diverse set of large-scale texts, including song lyrics. One of their observations is that the happiness of song lyrics trends downward from the 1960s to the mid 1990s. In an article published a couple of weeks ago, Charlotte O. Brand et al. take a step further, stating: 'The quantitative description of trends [in language of lyrics] is fundamental, but a further necessary step is to understand what drives these trends.' (Brand et al. 2018: 1) In that context they use the theory of cultural evolution, with which researchers seek to explain population-level patterns and trends in cultural systems in terms of individual-level social, psychological and demographic processes. Cultural evolutionists have focused on transmission or learning biases as key drivers of cultural evolutionary dynamics. Brand et al. test the extent to which transmission biases can explain trends in the emotional content of two datasets of English language song lyrics. (2)\n",
    "\n",
    "In all studies on the language of song lyrics that I have seen  (not only the ones mentions before, but also [this one](https://www.johnwmillr.com/trucks-and-beer/), [this](https://towardsdatascience.com/does-country-music-drink-more-than-other-genres-a21db901940b) and [this](https://github.com/Hugo-Nattagh/2017-Hip-Hop)), the corpus consists of English popsongs. As far as I know, no similar research has been done on a corpus containing lyrics of Dutch popular songs. Drawing inspiration from the studies on English language song lyrics mentioned above, I will research the lyrics of Dutch popular songs. Brand et al. use in their study on emotional expression in song lyrics the text analysis application Linguistic Inquiry and Word Count ([LIWC](http://liwc.wpengine.com)). LIWC is a software program to analyse text by counting words in 68 psychologically meaningful categories that are calculated in a dictionary of words. LIWC reads a given text and counts the number of words that fall in a certain category. Since it was originally developed by researchers with interest in social, clinical, health and cognitive psychology, the language categories were created to capture people's social and psychological states. LIWC is originally an English dictionary, but is translated in many languages, among which the Dutch language.\n",
    "\n",
    "Investigating the change over time of emotional expression in lyrics is a time consuming study: you not only need a clean corpus of song lyrics, but also enough metadata on the songs such as the artist, the album and, most important, the year of release. Since my time and tools are limited, I had to choose a more straightforward approach. I decided to do a comparative study on works of Dutch pop song artists from the last thirty years, using LIWC. In this study I won't compare songs from different years or decades with each other, but I'll compare oeuvres from different artists with each other. The research question I will answer in this study is: _which textual differences in oeuvres of 80 Dutch pop song artists can be measured, using the Dutch version of LIWC?_ There have been some studies on the Dutch translation of LIWC, but the corpus always consisted of Dutch prose. (bron) Therefore I see this study also as a test case to see how succesful the Dutch translation of LIWC can be applied to Dutch song lyrics. In what follows I will first describe the methods I used in this study. Subsequently there will be a paragraph on the results. I will end with a discussion section with some suggestions and remarks for future work.\n",
    "\n",
    "## 2. Methods\n",
    "\n",
    "### 2.1 Data Preparation\n",
    "\n",
    "#### _Corpus_\n",
    "To create a dataset, I went to the Dutch equivalent of _Billboard_: the [Top40](https://www.top40.nl). Here the 'Top 100-Jaaroverzicht' can be found from 1965 until 2018. I checked each list from the last thirty years (1989-2018) manually for artists that wrote songs in Dutch. I created a list with the names of these artists. After that, drawing inspiration from fellow GitHub-people, I wrote a script which, given an artist from the above mentioned list, scraped corresponding song lyrics from [Genius](www.genius.com). I put the maximum amount of song lyrics per artist to 100. The lyrics were scraped in alphabetical order, which meant that for artists with more than 100 songs on [Genius](www.genius.com) only the songs which titles come first in an alphabetic ordered row, were scraped. As a result I got 93 .text-files, each file containing lyrics of a specific artist. This gave me a total amount of 4105 songs. If an artist couldn't be found on Genius, the script went looking for an artist with a similar name. In some cases this went wrong - Dutch rapper Dio was replaced with French singer Céline Dion, for example. I eliminated these kind of files with non-Dutch songs that were accidently scraped from the dataset. I also removed English songs from files of artists that wrote songs in both languages, as well as artists with only one song. The result was a dataset with 82 .text-files from 81 different artists. Since I removed English songs manually, I wasn't able to count the number of Dutch songs left, but my guess is that the remaining dataset contained between 3500 and 4000 songs.\n",
    "\n",
    "#### _LIWC_\n",
    "In this study I used the Dutch 2001 version of LIWC. As said before, LIWC counts the words in a given text that fall in one of the 68 categories that are specified in the LIWC dictionary and gives a percentage as output. Since not all categories were relevant for and applicable to song lyrics, I removed during the analysis 43 categories, such as 'Time', 'Space', 'Leisure', 'Certain', 'Motion', 'Sports', 'Eating', 'Job' et cetera. The categories that remained, 25 in total, were either a word type-category (e.g. 'Article', 'Preps', 'Pronoun'), an emotional category (e.g. 'Negemo', 'Posemo', 'Anger', 'Sad') or a category with a common topic (e.g. 'School', 'Friends', 'Family', 'Money'). \n",
    "\n",
    "### 2.2 Data Analysis\n",
    "\n",
    "#### _LIWC reading lyrics_\n",
    "Before the .txt-files were ready to be read by LIWC, the lyrics needed to be tokenized in order to let LIWC recognize words instead of seperate characters. I wrote a script that looped over the directory where all the .txt-files were stored. I used the `tokenize.word_tokenize` from the `nltk` library to tokenize the lyrics, since this tokenizer has a package for Dutch texts. I stored the words in a list and after removing punctuation I had a clean list of words for each .txt-file. This list of words I used as input for LIWC. The output of LIWC was a row with percentages for each category. I created a DataFrame from these rows. In the end this DataFrame contained 82 rows (corresponding with 82 artists) and 68 columns. After removing 43 columns as discussed earlier, a DataFrame with 82 rows and 25 columns remained. Each cell contained a number, expressing the percentage of words of some artist's work in a certain category.\n",
    "\n",
    "I created separate DataFrames, grouping the different categories in the three groups mentioned earlier. I created a DataFrame `df1` with common topic-categories, containing the categories 'School', 'Friends', 'Home', 'Money', 'Family', 'Death', 'Relig' and 'Sexual'. `df2` contained emotional categories 'Optim', 'Posfeel', 'Negate', 'Negemo', 'Posemo', 'Anger', 'Sad' and 'Swear'. `df3` contained the word type-categories 'We', 'Other', 'You', 'Article', 'Othref', 'I', 'Self', 'Preps', and 'Pronouns'. I created an additional DataFrame `df4`, only containing the two categories 'Negemo' and 'Posemo'.\n",
    "\n",
    "#### _Hypotheses_\n",
    "Brand et al. found by analyzing the emotional content of song lyrics of songs spanning the years 1965-2015 that the frequency of negative words increased over time, whilst the frequeny of positive words decreased over time. Drawing inspiration frow this, I expect that artists from the last decade use more negative words than artists that were (already) writing songs in the previous century. Furthermore I expect that the percentages of the word type-categories are lower for artists from the last decade compared to 'older' artists, since 'new' artists use lots of slang which will not be recognized by LIWC. I don't think there will be a substantial difference between 'old' and 'new' artists, regarding the frequencies in the categories which contain common topics.\n",
    "\n",
    "## 3. Results\n",
    "The category with the highest frequencies was 'Pronoun' (median 0.143308), being followed by the categories 'Preps' (median 0.078978, 'Self' (median 0.075952) and 'I' (median 0.075952). The categories with the lowest frequencies were 'Swear' (median 0.000426, 'Death' (median 0.000464) and 'School' (median 0.000722).\n",
    "- hoe groot zijn die frequenties nou eigenlijk? vergelijken met random NL tekst --> sollicitatie\n",
    "- which categories are the most represented\n",
    "- bar plots\n",
    "- nut van PCA's\n",
    "\n",
    "## 4. Discussion\n",
    "\n",
    "- liwc not applicable to lyrics\n",
    "- dutch hip hop: leenwoorden, slang\n",
    "- other way of scraping: more metadata"
   ]
  },
  {
   "cell_type": "code",
   "execution_count": 37,
   "metadata": {},
   "outputs": [
    {
     "data": {
      "text/html": [
       "<div>\n",
       "<style scoped>\n",
       "    .dataframe tbody tr th:only-of-type {\n",
       "        vertical-align: middle;\n",
       "    }\n",
       "\n",
       "    .dataframe tbody tr th {\n",
       "        vertical-align: top;\n",
       "    }\n",
       "\n",
       "    .dataframe thead th {\n",
       "        text-align: right;\n",
       "    }\n",
       "</style>\n",
       "<table border=\"1\" class=\"dataframe\">\n",
       "  <thead>\n",
       "    <tr style=\"text-align: right;\">\n",
       "      <th></th>\n",
       "      <th>Unnamed: 0</th>\n",
       "      <th>Achieve</th>\n",
       "      <th>Affect</th>\n",
       "      <th>Anger</th>\n",
       "      <th>Anx</th>\n",
       "      <th>Article</th>\n",
       "      <th>Assent</th>\n",
       "      <th>Body</th>\n",
       "      <th>Cause</th>\n",
       "      <th>Certain</th>\n",
       "      <th>...</th>\n",
       "      <th>Social</th>\n",
       "      <th>Space</th>\n",
       "      <th>Sports</th>\n",
       "      <th>Swear</th>\n",
       "      <th>TV</th>\n",
       "      <th>Tentat</th>\n",
       "      <th>Time</th>\n",
       "      <th>Up</th>\n",
       "      <th>We</th>\n",
       "      <th>You</th>\n",
       "    </tr>\n",
       "  </thead>\n",
       "  <tbody>\n",
       "    <tr>\n",
       "      <th>0</th>\n",
       "      <td>Lyrics_Jayh.txt</td>\n",
       "      <td>0.000584</td>\n",
       "      <td>0.031536</td>\n",
       "      <td>0.002920</td>\n",
       "      <td>0.000908</td>\n",
       "      <td>0.026604</td>\n",
       "      <td>0.006164</td>\n",
       "      <td>0.005840</td>\n",
       "      <td>0.004088</td>\n",
       "      <td>0.013432</td>\n",
       "      <td>...</td>\n",
       "      <td>0.101616</td>\n",
       "      <td>0.012978</td>\n",
       "      <td>0.000389</td>\n",
       "      <td>0.001687</td>\n",
       "      <td>0.000260</td>\n",
       "      <td>0.006684</td>\n",
       "      <td>0.033288</td>\n",
       "      <td>0.009344</td>\n",
       "      <td>0.002660</td>\n",
       "      <td>0.052755</td>\n",
       "    </tr>\n",
       "    <tr>\n",
       "      <th>1</th>\n",
       "      <td>Lyrics_Volumia!.txt</td>\n",
       "      <td>0.002373</td>\n",
       "      <td>0.049266</td>\n",
       "      <td>0.002147</td>\n",
       "      <td>0.001469</td>\n",
       "      <td>0.047458</td>\n",
       "      <td>0.001017</td>\n",
       "      <td>0.014011</td>\n",
       "      <td>0.006215</td>\n",
       "      <td>0.015819</td>\n",
       "      <td>...</td>\n",
       "      <td>0.090169</td>\n",
       "      <td>0.034011</td>\n",
       "      <td>0.000791</td>\n",
       "      <td>0.000565</td>\n",
       "      <td>0.000000</td>\n",
       "      <td>0.007910</td>\n",
       "      <td>0.068362</td>\n",
       "      <td>0.006328</td>\n",
       "      <td>0.004068</td>\n",
       "      <td>0.043842</td>\n",
       "    </tr>\n",
       "    <tr>\n",
       "      <th>2</th>\n",
       "      <td>Lyrics_JanSmit&amp;Broederliefde.txt</td>\n",
       "      <td>0.000000</td>\n",
       "      <td>0.023333</td>\n",
       "      <td>0.003333</td>\n",
       "      <td>0.001667</td>\n",
       "      <td>0.021667</td>\n",
       "      <td>0.010000</td>\n",
       "      <td>0.003333</td>\n",
       "      <td>0.005000</td>\n",
       "      <td>0.016667</td>\n",
       "      <td>...</td>\n",
       "      <td>0.076667</td>\n",
       "      <td>0.020000</td>\n",
       "      <td>0.001667</td>\n",
       "      <td>0.001667</td>\n",
       "      <td>0.000000</td>\n",
       "      <td>0.001667</td>\n",
       "      <td>0.025000</td>\n",
       "      <td>0.011667</td>\n",
       "      <td>0.003333</td>\n",
       "      <td>0.053333</td>\n",
       "    </tr>\n",
       "    <tr>\n",
       "      <th>3</th>\n",
       "      <td>Lyrics_PauldeLeeuw.txt</td>\n",
       "      <td>0.001232</td>\n",
       "      <td>0.040833</td>\n",
       "      <td>0.002837</td>\n",
       "      <td>0.002165</td>\n",
       "      <td>0.048858</td>\n",
       "      <td>0.003359</td>\n",
       "      <td>0.009331</td>\n",
       "      <td>0.005263</td>\n",
       "      <td>0.016162</td>\n",
       "      <td>...</td>\n",
       "      <td>0.091109</td>\n",
       "      <td>0.023179</td>\n",
       "      <td>0.001008</td>\n",
       "      <td>0.000149</td>\n",
       "      <td>0.000149</td>\n",
       "      <td>0.014519</td>\n",
       "      <td>0.061138</td>\n",
       "      <td>0.008958</td>\n",
       "      <td>0.003397</td>\n",
       "      <td>0.043222</td>\n",
       "    </tr>\n",
       "    <tr>\n",
       "      <th>4</th>\n",
       "      <td>Lyrics_Yes-R.txt</td>\n",
       "      <td>0.002280</td>\n",
       "      <td>0.037201</td>\n",
       "      <td>0.006880</td>\n",
       "      <td>0.001960</td>\n",
       "      <td>0.046402</td>\n",
       "      <td>0.004080</td>\n",
       "      <td>0.006720</td>\n",
       "      <td>0.007920</td>\n",
       "      <td>0.012440</td>\n",
       "      <td>...</td>\n",
       "      <td>0.101684</td>\n",
       "      <td>0.017321</td>\n",
       "      <td>0.001200</td>\n",
       "      <td>0.003480</td>\n",
       "      <td>0.000240</td>\n",
       "      <td>0.011320</td>\n",
       "      <td>0.044642</td>\n",
       "      <td>0.009360</td>\n",
       "      <td>0.003840</td>\n",
       "      <td>0.051602</td>\n",
       "    </tr>\n",
       "  </tbody>\n",
       "</table>\n",
       "<p>5 rows × 69 columns</p>\n",
       "</div>"
      ],
      "text/plain": [
       "                         Unnamed: 0   Achieve    Affect     Anger       Anx  \\\n",
       "0                   Lyrics_Jayh.txt  0.000584  0.031536  0.002920  0.000908   \n",
       "1               Lyrics_Volumia!.txt  0.002373  0.049266  0.002147  0.001469   \n",
       "2  Lyrics_JanSmit&Broederliefde.txt  0.000000  0.023333  0.003333  0.001667   \n",
       "3            Lyrics_PauldeLeeuw.txt  0.001232  0.040833  0.002837  0.002165   \n",
       "4                  Lyrics_Yes-R.txt  0.002280  0.037201  0.006880  0.001960   \n",
       "\n",
       "    Article    Assent      Body     Cause   Certain    ...       Social  \\\n",
       "0  0.026604  0.006164  0.005840  0.004088  0.013432    ...     0.101616   \n",
       "1  0.047458  0.001017  0.014011  0.006215  0.015819    ...     0.090169   \n",
       "2  0.021667  0.010000  0.003333  0.005000  0.016667    ...     0.076667   \n",
       "3  0.048858  0.003359  0.009331  0.005263  0.016162    ...     0.091109   \n",
       "4  0.046402  0.004080  0.006720  0.007920  0.012440    ...     0.101684   \n",
       "\n",
       "      Space    Sports     Swear        TV    Tentat      Time        Up  \\\n",
       "0  0.012978  0.000389  0.001687  0.000260  0.006684  0.033288  0.009344   \n",
       "1  0.034011  0.000791  0.000565  0.000000  0.007910  0.068362  0.006328   \n",
       "2  0.020000  0.001667  0.001667  0.000000  0.001667  0.025000  0.011667   \n",
       "3  0.023179  0.001008  0.000149  0.000149  0.014519  0.061138  0.008958   \n",
       "4  0.017321  0.001200  0.003480  0.000240  0.011320  0.044642  0.009360   \n",
       "\n",
       "         We       You  \n",
       "0  0.002660  0.052755  \n",
       "1  0.004068  0.043842  \n",
       "2  0.003333  0.053333  \n",
       "3  0.003397  0.043222  \n",
       "4  0.003840  0.051602  \n",
       "\n",
       "[5 rows x 69 columns]"
      ]
     },
     "execution_count": 37,
     "metadata": {},
     "output_type": "execute_result"
    }
   ],
   "source": [
    "import pandas as pd\n",
    "df = pd.read_csv('data/lyrics_liwc.csv', sep=';')\n",
    "df.head()"
   ]
  },
  {
   "cell_type": "code",
   "execution_count": 38,
   "metadata": {},
   "outputs": [
    {
     "data": {
      "text/plain": [
       "(81, 69)"
      ]
     },
     "execution_count": 38,
     "metadata": {},
     "output_type": "execute_result"
    }
   ],
   "source": [
    "df.shape"
   ]
  },
  {
   "cell_type": "code",
   "execution_count": 39,
   "metadata": {},
   "outputs": [],
   "source": [
    "def get_names(filename):\n",
    "    fields = filename.split('_')\n",
    "    return fields[-1] if len(fields) > 1 else 'Unknown'\n",
    "\n",
    "def get_names2(filename):\n",
    "    fields = filename.split('.txt')\n",
    "    return fields[0]"
   ]
  },
  {
   "cell_type": "code",
   "execution_count": 40,
   "metadata": {},
   "outputs": [],
   "source": [
    "df['Unnamed: 0'] = df['Unnamed: 0'].apply(get_names)\n",
    "df['Unnamed: 0'] = df['Unnamed: 0'].apply(get_names2)\n",
    "df = df.rename(columns={'Unnamed: 0': 'Artist'})\n",
    "df = df.set_index('Artist')"
   ]
  },
  {
   "cell_type": "code",
   "execution_count": 41,
   "metadata": {},
   "outputs": [
    {
     "data": {
      "text/html": [
       "<div>\n",
       "<style scoped>\n",
       "    .dataframe tbody tr th:only-of-type {\n",
       "        vertical-align: middle;\n",
       "    }\n",
       "\n",
       "    .dataframe tbody tr th {\n",
       "        vertical-align: top;\n",
       "    }\n",
       "\n",
       "    .dataframe thead th {\n",
       "        text-align: right;\n",
       "    }\n",
       "</style>\n",
       "<table border=\"1\" class=\"dataframe\">\n",
       "  <thead>\n",
       "    <tr style=\"text-align: right;\">\n",
       "      <th></th>\n",
       "      <th>Achieve</th>\n",
       "      <th>Affect</th>\n",
       "      <th>Anger</th>\n",
       "      <th>Anx</th>\n",
       "      <th>Article</th>\n",
       "      <th>Assent</th>\n",
       "      <th>Body</th>\n",
       "      <th>Cause</th>\n",
       "      <th>Certain</th>\n",
       "      <th>Cogmech</th>\n",
       "      <th>...</th>\n",
       "      <th>Social</th>\n",
       "      <th>Space</th>\n",
       "      <th>Sports</th>\n",
       "      <th>Swear</th>\n",
       "      <th>TV</th>\n",
       "      <th>Tentat</th>\n",
       "      <th>Time</th>\n",
       "      <th>Up</th>\n",
       "      <th>We</th>\n",
       "      <th>You</th>\n",
       "    </tr>\n",
       "    <tr>\n",
       "      <th>Artist</th>\n",
       "      <th></th>\n",
       "      <th></th>\n",
       "      <th></th>\n",
       "      <th></th>\n",
       "      <th></th>\n",
       "      <th></th>\n",
       "      <th></th>\n",
       "      <th></th>\n",
       "      <th></th>\n",
       "      <th></th>\n",
       "      <th></th>\n",
       "      <th></th>\n",
       "      <th></th>\n",
       "      <th></th>\n",
       "      <th></th>\n",
       "      <th></th>\n",
       "      <th></th>\n",
       "      <th></th>\n",
       "      <th></th>\n",
       "      <th></th>\n",
       "      <th></th>\n",
       "    </tr>\n",
       "  </thead>\n",
       "  <tbody>\n",
       "    <tr>\n",
       "      <th>Jayh</th>\n",
       "      <td>0.000584</td>\n",
       "      <td>0.031536</td>\n",
       "      <td>0.002920</td>\n",
       "      <td>0.000908</td>\n",
       "      <td>0.026604</td>\n",
       "      <td>0.006164</td>\n",
       "      <td>0.005840</td>\n",
       "      <td>0.004088</td>\n",
       "      <td>0.013432</td>\n",
       "      <td>0.056778</td>\n",
       "      <td>...</td>\n",
       "      <td>0.101616</td>\n",
       "      <td>0.012978</td>\n",
       "      <td>0.000389</td>\n",
       "      <td>0.001687</td>\n",
       "      <td>0.000260</td>\n",
       "      <td>0.006684</td>\n",
       "      <td>0.033288</td>\n",
       "      <td>0.009344</td>\n",
       "      <td>0.002660</td>\n",
       "      <td>0.052755</td>\n",
       "    </tr>\n",
       "    <tr>\n",
       "      <th>Volumia!</th>\n",
       "      <td>0.002373</td>\n",
       "      <td>0.049266</td>\n",
       "      <td>0.002147</td>\n",
       "      <td>0.001469</td>\n",
       "      <td>0.047458</td>\n",
       "      <td>0.001017</td>\n",
       "      <td>0.014011</td>\n",
       "      <td>0.006215</td>\n",
       "      <td>0.015819</td>\n",
       "      <td>0.061695</td>\n",
       "      <td>...</td>\n",
       "      <td>0.090169</td>\n",
       "      <td>0.034011</td>\n",
       "      <td>0.000791</td>\n",
       "      <td>0.000565</td>\n",
       "      <td>0.000000</td>\n",
       "      <td>0.007910</td>\n",
       "      <td>0.068362</td>\n",
       "      <td>0.006328</td>\n",
       "      <td>0.004068</td>\n",
       "      <td>0.043842</td>\n",
       "    </tr>\n",
       "    <tr>\n",
       "      <th>JanSmit&amp;Broederliefde</th>\n",
       "      <td>0.000000</td>\n",
       "      <td>0.023333</td>\n",
       "      <td>0.003333</td>\n",
       "      <td>0.001667</td>\n",
       "      <td>0.021667</td>\n",
       "      <td>0.010000</td>\n",
       "      <td>0.003333</td>\n",
       "      <td>0.005000</td>\n",
       "      <td>0.016667</td>\n",
       "      <td>0.041667</td>\n",
       "      <td>...</td>\n",
       "      <td>0.076667</td>\n",
       "      <td>0.020000</td>\n",
       "      <td>0.001667</td>\n",
       "      <td>0.001667</td>\n",
       "      <td>0.000000</td>\n",
       "      <td>0.001667</td>\n",
       "      <td>0.025000</td>\n",
       "      <td>0.011667</td>\n",
       "      <td>0.003333</td>\n",
       "      <td>0.053333</td>\n",
       "    </tr>\n",
       "    <tr>\n",
       "      <th>PauldeLeeuw</th>\n",
       "      <td>0.001232</td>\n",
       "      <td>0.040833</td>\n",
       "      <td>0.002837</td>\n",
       "      <td>0.002165</td>\n",
       "      <td>0.048858</td>\n",
       "      <td>0.003359</td>\n",
       "      <td>0.009331</td>\n",
       "      <td>0.005263</td>\n",
       "      <td>0.016162</td>\n",
       "      <td>0.060951</td>\n",
       "      <td>...</td>\n",
       "      <td>0.091109</td>\n",
       "      <td>0.023179</td>\n",
       "      <td>0.001008</td>\n",
       "      <td>0.000149</td>\n",
       "      <td>0.000149</td>\n",
       "      <td>0.014519</td>\n",
       "      <td>0.061138</td>\n",
       "      <td>0.008958</td>\n",
       "      <td>0.003397</td>\n",
       "      <td>0.043222</td>\n",
       "    </tr>\n",
       "    <tr>\n",
       "      <th>Yes-R</th>\n",
       "      <td>0.002280</td>\n",
       "      <td>0.037201</td>\n",
       "      <td>0.006880</td>\n",
       "      <td>0.001960</td>\n",
       "      <td>0.046402</td>\n",
       "      <td>0.004080</td>\n",
       "      <td>0.006720</td>\n",
       "      <td>0.007920</td>\n",
       "      <td>0.012440</td>\n",
       "      <td>0.064203</td>\n",
       "      <td>...</td>\n",
       "      <td>0.101684</td>\n",
       "      <td>0.017321</td>\n",
       "      <td>0.001200</td>\n",
       "      <td>0.003480</td>\n",
       "      <td>0.000240</td>\n",
       "      <td>0.011320</td>\n",
       "      <td>0.044642</td>\n",
       "      <td>0.009360</td>\n",
       "      <td>0.003840</td>\n",
       "      <td>0.051602</td>\n",
       "    </tr>\n",
       "  </tbody>\n",
       "</table>\n",
       "<p>5 rows × 68 columns</p>\n",
       "</div>"
      ],
      "text/plain": [
       "                        Achieve    Affect     Anger       Anx   Article  \\\n",
       "Artist                                                                    \n",
       "Jayh                   0.000584  0.031536  0.002920  0.000908  0.026604   \n",
       "Volumia!               0.002373  0.049266  0.002147  0.001469  0.047458   \n",
       "JanSmit&Broederliefde  0.000000  0.023333  0.003333  0.001667  0.021667   \n",
       "PauldeLeeuw            0.001232  0.040833  0.002837  0.002165  0.048858   \n",
       "Yes-R                  0.002280  0.037201  0.006880  0.001960  0.046402   \n",
       "\n",
       "                         Assent      Body     Cause   Certain   Cogmech  \\\n",
       "Artist                                                                    \n",
       "Jayh                   0.006164  0.005840  0.004088  0.013432  0.056778   \n",
       "Volumia!               0.001017  0.014011  0.006215  0.015819  0.061695   \n",
       "JanSmit&Broederliefde  0.010000  0.003333  0.005000  0.016667  0.041667   \n",
       "PauldeLeeuw            0.003359  0.009331  0.005263  0.016162  0.060951   \n",
       "Yes-R                  0.004080  0.006720  0.007920  0.012440  0.064203   \n",
       "\n",
       "                         ...       Social     Space    Sports     Swear  \\\n",
       "Artist                   ...                                              \n",
       "Jayh                     ...     0.101616  0.012978  0.000389  0.001687   \n",
       "Volumia!                 ...     0.090169  0.034011  0.000791  0.000565   \n",
       "JanSmit&Broederliefde    ...     0.076667  0.020000  0.001667  0.001667   \n",
       "PauldeLeeuw              ...     0.091109  0.023179  0.001008  0.000149   \n",
       "Yes-R                    ...     0.101684  0.017321  0.001200  0.003480   \n",
       "\n",
       "                             TV    Tentat      Time        Up        We  \\\n",
       "Artist                                                                    \n",
       "Jayh                   0.000260  0.006684  0.033288  0.009344  0.002660   \n",
       "Volumia!               0.000000  0.007910  0.068362  0.006328  0.004068   \n",
       "JanSmit&Broederliefde  0.000000  0.001667  0.025000  0.011667  0.003333   \n",
       "PauldeLeeuw            0.000149  0.014519  0.061138  0.008958  0.003397   \n",
       "Yes-R                  0.000240  0.011320  0.044642  0.009360  0.003840   \n",
       "\n",
       "                            You  \n",
       "Artist                           \n",
       "Jayh                   0.052755  \n",
       "Volumia!               0.043842  \n",
       "JanSmit&Broederliefde  0.053333  \n",
       "PauldeLeeuw            0.043222  \n",
       "Yes-R                  0.051602  \n",
       "\n",
       "[5 rows x 68 columns]"
      ]
     },
     "execution_count": 41,
     "metadata": {},
     "output_type": "execute_result"
    }
   ],
   "source": [
    "df.head()"
   ]
  },
  {
   "cell_type": "code",
   "execution_count": 42,
   "metadata": {},
   "outputs": [],
   "source": [
    "df.loc['Total']= df.median()"
   ]
  },
  {
   "cell_type": "code",
   "execution_count": 44,
   "metadata": {},
   "outputs": [],
   "source": [
    "df = df.drop(columns=['Time', 'Space', 'Social', 'Humans', 'Discrep', 'Cause', 'Incl', 'Leisure', 'Hear', 'Affect', 'Comm', 'Tentat', 'Up', 'Motion', 'Feel', 'Certain', 'Insight'])"
   ]
  },
  {
   "cell_type": "code",
   "execution_count": 45,
   "metadata": {},
   "outputs": [],
   "source": [
    "df = df.drop(columns=['Assent', 'Number', 'Occup', 'Inhib', 'Sports', 'Music', 'Nonfl', 'Achieve', 'Cogmech', 'Senses', 'Eating', 'Job', 'Excl', 'Present', 'Body', 'Physcal', 'Groom'])"
   ]
  },
  {
   "cell_type": "code",
   "execution_count": 46,
   "metadata": {},
   "outputs": [],
   "source": [
    "df = df.drop(columns=['Future', 'Fillers', 'Metaph', 'Past', 'Down', 'See', 'Sleep', 'TV', 'Anx'])"
   ]
  },
  {
   "cell_type": "code",
   "execution_count": 47,
   "metadata": {
    "scrolled": true
   },
   "outputs": [
    {
     "name": "stdout",
     "output_type": "stream",
     "text": [
      "Swear      0.000426\n",
      "Death      0.000464\n",
      "School     0.000722\n",
      "Relig      0.001035\n",
      "Friends    0.001472\n",
      "Home       0.001710\n",
      "Money      0.002328\n",
      "Optim      0.002418\n",
      "Sexual     0.002424\n",
      "We         0.002602\n",
      "Anger      0.002837\n",
      "Family     0.003023\n",
      "Posfeel    0.005834\n",
      "Sad        0.006570\n",
      "Other      0.009462\n",
      "Negate     0.011208\n",
      "Negemo     0.018678\n",
      "Posemo     0.019038\n",
      "You        0.039961\n",
      "Article    0.045738\n",
      "Othref     0.057721\n",
      "I          0.071667\n",
      "Self       0.075952\n",
      "Preps      0.078978\n",
      "Pronoun    0.143308\n",
      "Name: Total, dtype: float64\n"
     ]
    }
   ],
   "source": [
    "print((df.loc['Total'].sort_values()))"
   ]
  },
  {
   "cell_type": "code",
   "execution_count": 60,
   "metadata": {},
   "outputs": [],
   "source": [
    "df1 = df.drop(columns=['Optim', 'Posfeel', 'Negate', 'Negemo', 'Posemo', 'Anger', 'Sad', 'Swear', 'We', 'Other', 'You', 'Article', 'Othref', 'I', 'Self', 'Preps', 'Pronoun'])"
   ]
  },
  {
   "cell_type": "code",
   "execution_count": 49,
   "metadata": {},
   "outputs": [],
   "source": [
    "df2 = df.drop(columns=['School', 'Friends', 'Home', 'Money', 'Family', 'Death', 'Relig', 'Sexual', 'We', 'Other', 'You', 'Article', 'Othref', 'I', 'Self', 'Preps', 'Pronoun'])"
   ]
  },
  {
   "cell_type": "code",
   "execution_count": 50,
   "metadata": {},
   "outputs": [],
   "source": [
    "df3 = df.drop(columns=['School', 'Friends', 'Home', 'Money', 'Family', 'Death', 'Relig', 'Sexual', 'Optim', 'Posfeel', 'Negate', 'Negemo', 'Posemo', 'Anger', 'Sad', 'Swear'])"
   ]
  },
  {
   "cell_type": "code",
   "execution_count": 51,
   "metadata": {},
   "outputs": [],
   "source": [
    "df4 = df2.drop(columns=['Optim', 'Posfeel', 'Negate', 'Anger', 'Sad', 'Swear'])"
   ]
  },
  {
   "cell_type": "code",
   "execution_count": 61,
   "metadata": {},
   "outputs": [],
   "source": [
    "df1 = df1.drop('Total', axis=0)"
   ]
  },
  {
   "cell_type": "code",
   "execution_count": 63,
   "metadata": {},
   "outputs": [],
   "source": [
    "df2 = df2.drop('Total', axis=0)"
   ]
  },
  {
   "cell_type": "code",
   "execution_count": 64,
   "metadata": {},
   "outputs": [],
   "source": [
    "df3 = df3.drop('Total', axis=0)"
   ]
  },
  {
   "cell_type": "code",
   "execution_count": 65,
   "metadata": {},
   "outputs": [],
   "source": [
    "df4 = df4.drop('Total', axis=0)"
   ]
  },
  {
   "cell_type": "code",
   "execution_count": 66,
   "metadata": {},
   "outputs": [],
   "source": [
    "df = df.drop('Total', axis=0)"
   ]
  },
  {
   "cell_type": "code",
   "execution_count": 62,
   "metadata": {},
   "outputs": [
    {
     "data": {
      "text/plain": [
       "<matplotlib.axes._subplots.AxesSubplot at 0x11b310438>"
      ]
     },
     "execution_count": 62,
     "metadata": {},
     "output_type": "execute_result"
    },
    {
     "data": {
      "image/png": "[encoded data removed]",
      "text/plain": [
       "<Figure size 432x288 with 1 Axes>"
      ]
     },
     "metadata": {},
     "output_type": "display_data"
    }
   ],
   "source": [
    "df1.plot.bar(rot=90)"
   ]
  },
  {
   "cell_type": "code",
   "execution_count": 53,
   "metadata": {},
   "outputs": [
    {
     "data": {
      "text/plain": [
       "<matplotlib.axes._subplots.AxesSubplot at 0x11ad4e390>"
      ]
     },
     "execution_count": 53,
     "metadata": {},
     "output_type": "execute_result"
    },
    {
     "data": {
      "image/png": "[encoded data removed]",
      "text/plain": [
       "<Figure size 432x288 with 1 Axes>"
      ]
     },
     "metadata": {},
     "output_type": "display_data"
    }
   ],
   "source": [
    "df2.iloc[0:10].plot.bar(rot=90)"
   ]
  },
  {
   "cell_type": "code",
   "execution_count": 54,
   "metadata": {},
   "outputs": [
    {
     "data": {
      "text/plain": [
       "<matplotlib.axes._subplots.AxesSubplot at 0x11b083780>"
      ]
     },
     "execution_count": 54,
     "metadata": {},
     "output_type": "execute_result"
    },
    {
     "data": {
      "image/png": "[encoded data removed]",
      "text/plain": [
       "<Figure size 432x288 with 1 Axes>"
      ]
     },
     "metadata": {},
     "output_type": "display_data"
    }
   ],
   "source": [
    "df4.plot.bar(rot=90)"
   ]
  },
  {
   "cell_type": "code",
   "execution_count": 67,
   "metadata": {},
   "outputs": [],
   "source": [
    "df4.to_csv('posneg.csv', sep=';')"
   ]
  },
  {
   "cell_type": "code",
   "execution_count": 68,
   "metadata": {},
   "outputs": [],
   "source": [
    "df3.to_csv('wordtypes.csv', sep=';')"
   ]
  },
  {
   "cell_type": "code",
   "execution_count": 69,
   "metadata": {},
   "outputs": [],
   "source": [
    "df2.to_csv('emotions.csv', sep=';')"
   ]
  },
  {
   "cell_type": "code",
   "execution_count": 70,
   "metadata": {},
   "outputs": [],
   "source": [
    "df1.to_csv('commoncategories.csv', sep=';')"
   ]
  },
  {
   "cell_type": "code",
   "execution_count": 71,
   "metadata": {},
   "outputs": [],
   "source": [
    "df.to_csv('completedf.csv', sep=';')"
   ]
  },
  {
   "cell_type": "code",
   "execution_count": null,
   "metadata": {},
   "outputs": [],
   "source": []
  }
 ],
 "metadata": {
  "kernelspec": {
   "display_name": "Python 3",
   "language": "python",
   "name": "python3"
  },
  "language_info": {
   "codemirror_mode": {
    "name": "ipython",
    "version": 3
   },
   "file_extension": ".py",
   "mimetype": "text/x-python",
   "name": "python",
   "nbconvert_exporter": "python",
   "pygments_lexer": "ipython3",
   "version": "3.6.5"
  }
 },
 "nbformat": 4,
 "nbformat_minor": 2
}
